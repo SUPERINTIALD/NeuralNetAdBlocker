{
 "cells": [
  {
   "cell_type": "code",
   "id": "initial_id",
   "metadata": {
    "collapsed": true,
    "ExecuteTime": {
     "end_time": "2025-04-29T00:27:54.115693Z",
     "start_time": "2025-04-29T00:27:54.058236Z"
    }
   },
   "source": [
    "import sys\n",
    "import requests\n",
    "from bs4 import BeautifulSoup"
   ],
   "outputs": [],
   "execution_count": 1
  },
  {
   "metadata": {
    "ExecuteTime": {
     "end_time": "2025-04-29T01:14:12.905570Z",
     "start_time": "2025-04-29T01:14:12.900789Z"
    }
   },
   "cell_type": "code",
   "source": [
    "def fetch_html(url):\n",
    "    try:\n",
    "        response = requests.get(url)\n",
    "        response.raise_for_status()  # Raise an error for bad status codes\n",
    "        with open(\"test/temp.html\",\"w\") as f:\n",
    "            f.write(response.text)\n",
    "        return response.text\n",
    "    except requests.RequestException as e:\n",
    "        print(f\"Error fetching URL: {e}\")"
   ],
   "id": "84d426fd155b3390",
   "outputs": [],
   "execution_count": 50
  },
  {
   "metadata": {
    "ExecuteTime": {
     "end_time": "2025-04-29T01:14:13.439854Z",
     "start_time": "2025-04-29T01:14:13.436624Z"
    }
   },
   "cell_type": "code",
   "source": [
    "def separate_html_blocks(html):\n",
    "    soup = BeautifulSoup(html, 'html.parser')\n",
    "    classes = []\n",
    "    for tag in soup.find_all(True):\n",
    "        class_list = tag.get('class') or []\n",
    "        id_attr = tag.get('id')\n",
    "        if isinstance(id_attr, list):\n",
    "            id_attr = ''.join(id_attr)\n",
    "            classes.append(id_attr)\n",
    "        classes.extend(class_list)\n",
    "    # for a in soup.find_all('a'):\n",
    "    #     class_list = div.get('class') or []\n",
    "    #     id_list = div.get('id') or []\n",
    "    #     classes.extend(class_list)\n",
    "    #     classes.extend(id_list)\n",
    "    classes = list(set(classes))\n",
    "    for i in range(len(classes)):\n",
    "        print(f\"{i}. {classes[i]}\")\n",
    "    return classes"
   ],
   "id": "8d078c712f889feb",
   "outputs": [],
   "execution_count": 51
  },
  {
   "metadata": {
    "ExecuteTime": {
     "end_time": "2025-04-29T01:14:14.660463Z",
     "start_time": "2025-04-29T01:14:14.657875Z"
    }
   },
   "cell_type": "code",
   "source": [
    "def get_seperated_html(url):\n",
    "    html = fetch_html(url)\n",
    "    return separate_html_blocks(html)\n"
   ],
   "id": "cdd0016bf78f8804",
   "outputs": [],
   "execution_count": 52
  },
  {
   "metadata": {
    "ExecuteTime": {
     "end_time": "2025-04-29T01:14:16.197486Z",
     "start_time": "2025-04-29T01:14:16.113250Z"
    }
   },
   "cell_type": "code",
   "source": "l = get_seperated_html(\"https://www.sololevelingmangafree.com/manga/solo-leveling-chapter-200-2/index.html\")",
   "id": "e21f054a099a7bd",
   "outputs": [
    {
     "name": "stdout",
     "output_type": "stream",
     "text": [
      "0. tag-solo-leveling-manwha\n",
      "1. site-description\n",
      "2. tag-jay-mills\n",
      "3. yoast-schema-graph\n",
      "4. tag-sung-il-hwan\n",
      "5. tag-yuri-orloff\n",
      "6. trail-end\n",
      "7. tag-cha-hae-in\n",
      "8. trail-items\n",
      "9. single\n",
      "10. status-publish\n",
      "11. site-content\n",
      "12. tag-christopher-reed\n",
      "13. tag-liu-zhigang\n",
      "14. tag-sung-jinwoo\n",
      "15. eas6a97888e10\n",
      "16. wrap-inside\n",
      "17. page-item-131\n",
      "18. nav-previous\n",
      "19. page-item-48\n",
      "20. skip-link\n",
      "21. site-header\n",
      "22. single-comic\n",
      "23. site\n",
      "24. tag-sung-jin-woo\n",
      "25. screen-reader-text\n",
      "26. ad-div-2\n",
      "27. tag-thomas-andre\n",
      "28. eas6a97888e31\n",
      "29. entry-inner\n",
      "30. page_item\n",
      "31. navigation\n",
      "32. sidebar\n",
      "33. widget-title\n",
      "34. custom-header-image\n",
      "35. eas6a97888e33\n",
      "36. tag-manga\n",
      "37. sidebar-subsidiary\n",
      "38. comic-template-default\n",
      "39. type-comic\n",
      "40. site-footer\n",
      "41. tag-goto-ryuji\n",
      "42. trail-begin\n",
      "43. meta-nav\n",
      "44. entry\n",
      "45. post-navigation\n",
      "46. site-main\n",
      "47. content-area\n",
      "48. eas6a97888e2\n",
      "49. site-info\n",
      "50. disable-script\n",
      "51. site-title\n",
      "52. tag-solo-leveling-manga\n",
      "53. tag-leveling\n",
      "54. custom-background\n",
      "55. postid-1634\n",
      "56. nav-next\n",
      "57. textwidget\n",
      "58. page-item-133\n",
      "59. post-title\n",
      "60. tag-solo\n",
      "61. tag-go-gunhee\n",
      "62. widget_text\n",
      "63. site-branding\n",
      "64. page-item-1407\n",
      "65. trail-after\n",
      "66. ceo_latest_comics_widget\n",
      "67. entry-header\n",
      "68. entry-content\n",
      "69. tag-solo-leveling\n",
      "70. tag-hwang-dongsoo\n",
      "71. tag-reiji-sugimoto\n",
      "72. menu-items\n",
      "73. top-menus-disabled\n",
      "74. eas6a97888e35\n",
      "75. tag-only-i-level-up\n",
      "76. ad-div-1\n",
      "77. page-item-129\n",
      "78. main-navigation\n",
      "79. breadcrumbs\n",
      "80. tag-lennart-niermann\n",
      "81. breadcrumb-trail\n",
      "82. layout-1c\n",
      "83. entry-title\n",
      "84. nav-links\n",
      "85. trail-before\n",
      "86. wrap\n",
      "87. menu\n",
      "88. post-1634\n",
      "89. comic\n",
      "90. widget\n"
     ]
    }
   ],
   "execution_count": 53
  },
  {
   "metadata": {
    "ExecuteTime": {
     "end_time": "2025-04-29T01:16:07.378707Z",
     "start_time": "2025-04-29T01:16:07.370965Z"
    }
   },
   "cell_type": "code",
   "source": [
    "from time import sleep\n",
    "\n",
    "classes = []\n",
    "def main(url):\n",
    "    global classes\n",
    "    classes = get_seperated_html(url)\n",
    "\n",
    "def other(ads):\n",
    "    non_ad = open(\"dataset/non_ad.txt\", \"a\")\n",
    "    is_ad = open(\"dataset/is_ad.txt\", \"a\")\n",
    "    ads = ads.split(',')\n",
    "    ads = [ad.strip().lower() for ad in ads]\n",
    "    for c in classes:\n",
    "        if any(ad in c.lower() for ad in ads):\n",
    "            is_ad.write(f\"{c}\\n\")\n",
    "        else:\n",
    "            non_ad.write(f\"{c}\\n\")\n",
    "    non_ad.close()\n",
    "    is_ad.close()\n"
   ],
   "id": "108548d8186ef058",
   "outputs": [],
   "execution_count": 57
  },
  {
   "metadata": {
    "ExecuteTime": {
     "end_time": "2025-04-29T01:16:12.551760Z",
     "start_time": "2025-04-29T01:16:12.446307Z"
    }
   },
   "cell_type": "code",
   "source": "main(\"https://www.sololevelingmangafree.com/manga/solo-leveling-chapter-200-2/index.html\")",
   "id": "7e85bf54e205ae4d",
   "outputs": [
    {
     "name": "stdout",
     "output_type": "stream",
     "text": [
      "0. tag-solo-leveling-manwha\n",
      "1. site-description\n",
      "2. tag-jay-mills\n",
      "3. yoast-schema-graph\n",
      "4. tag-sung-il-hwan\n",
      "5. tag-yuri-orloff\n",
      "6. trail-end\n",
      "7. tag-cha-hae-in\n",
      "8. trail-items\n",
      "9. single\n",
      "10. status-publish\n",
      "11. site-content\n",
      "12. tag-christopher-reed\n",
      "13. tag-liu-zhigang\n",
      "14. tag-sung-jinwoo\n",
      "15. eas6a97888e10\n",
      "16. wrap-inside\n",
      "17. page-item-131\n",
      "18. nav-previous\n",
      "19. page-item-48\n",
      "20. skip-link\n",
      "21. site-header\n",
      "22. single-comic\n",
      "23. site\n",
      "24. tag-sung-jin-woo\n",
      "25. screen-reader-text\n",
      "26. ad-div-2\n",
      "27. tag-thomas-andre\n",
      "28. eas6a97888e31\n",
      "29. entry-inner\n",
      "30. page_item\n",
      "31. navigation\n",
      "32. sidebar\n",
      "33. widget-title\n",
      "34. custom-header-image\n",
      "35. eas6a97888e33\n",
      "36. tag-manga\n",
      "37. sidebar-subsidiary\n",
      "38. comic-template-default\n",
      "39. type-comic\n",
      "40. site-footer\n",
      "41. tag-goto-ryuji\n",
      "42. trail-begin\n",
      "43. meta-nav\n",
      "44. entry\n",
      "45. post-navigation\n",
      "46. site-main\n",
      "47. content-area\n",
      "48. eas6a97888e2\n",
      "49. site-info\n",
      "50. disable-script\n",
      "51. site-title\n",
      "52. tag-solo-leveling-manga\n",
      "53. tag-leveling\n",
      "54. custom-background\n",
      "55. postid-1634\n",
      "56. nav-next\n",
      "57. textwidget\n",
      "58. page-item-133\n",
      "59. post-title\n",
      "60. tag-solo\n",
      "61. tag-go-gunhee\n",
      "62. widget_text\n",
      "63. site-branding\n",
      "64. page-item-1407\n",
      "65. trail-after\n",
      "66. ceo_latest_comics_widget\n",
      "67. entry-header\n",
      "68. entry-content\n",
      "69. tag-solo-leveling\n",
      "70. tag-hwang-dongsoo\n",
      "71. tag-reiji-sugimoto\n",
      "72. menu-items\n",
      "73. top-menus-disabled\n",
      "74. eas6a97888e35\n",
      "75. tag-only-i-level-up\n",
      "76. ad-div-1\n",
      "77. page-item-129\n",
      "78. main-navigation\n",
      "79. breadcrumbs\n",
      "80. tag-lennart-niermann\n",
      "81. breadcrumb-trail\n",
      "82. layout-1c\n",
      "83. entry-title\n",
      "84. nav-links\n",
      "85. trail-before\n",
      "86. wrap\n",
      "87. menu\n",
      "88. post-1634\n",
      "89. comic\n",
      "90. widget\n"
     ]
    }
   ],
   "execution_count": 58
  },
  {
   "metadata": {
    "ExecuteTime": {
     "end_time": "2025-04-29T01:14:45.478246Z",
     "start_time": "2025-04-29T01:14:45.453738Z"
    }
   },
   "cell_type": "code",
   "source": "other(\"ad-div-2,ad-div-1,\")",
   "id": "2ad04d83096319bd",
   "outputs": [
    {
     "ename": "ValueError",
     "evalue": "invalid literal for int() with base 10: 'ad-div-2'",
     "output_type": "error",
     "traceback": [
      "\u001B[31m---------------------------------------------------------------------------\u001B[39m",
      "\u001B[31mValueError\u001B[39m                                Traceback (most recent call last)",
      "\u001B[36mCell\u001B[39m\u001B[36m \u001B[39m\u001B[32mIn[56]\u001B[39m\u001B[32m, line 1\u001B[39m\n\u001B[32m----> \u001B[39m\u001B[32m1\u001B[39m \u001B[43mother\u001B[49m\u001B[43m(\u001B[49m\u001B[33;43m\"\u001B[39;49m\u001B[33;43mad-div-2,eas6a97888e31,eas6a97888e31\u001B[39;49m\u001B[33;43m\"\u001B[39;49m\u001B[43m)\u001B[49m\n",
      "\u001B[36mCell\u001B[39m\u001B[36m \u001B[39m\u001B[32mIn[54]\u001B[39m\u001B[32m, line 12\u001B[39m, in \u001B[36mother\u001B[39m\u001B[34m(ads)\u001B[39m\n\u001B[32m     10\u001B[39m is_ad = \u001B[38;5;28mopen\u001B[39m(\u001B[33m\"\u001B[39m\u001B[33mdataset/is_ad.txt\u001B[39m\u001B[33m\"\u001B[39m, \u001B[33m\"\u001B[39m\u001B[33ma\u001B[39m\u001B[33m\"\u001B[39m)\n\u001B[32m     11\u001B[39m ads = ads.split(\u001B[33m'\u001B[39m\u001B[33m,\u001B[39m\u001B[33m'\u001B[39m)\n\u001B[32m---> \u001B[39m\u001B[32m12\u001B[39m ads = [\u001B[38;5;28;43mint\u001B[39;49m\u001B[43m(\u001B[49m\u001B[43mad\u001B[49m\u001B[43m.\u001B[49m\u001B[43mstrip\u001B[49m\u001B[43m(\u001B[49m\u001B[43m)\u001B[49m\u001B[43m)\u001B[49m \u001B[38;5;28;01mfor\u001B[39;00m ad \u001B[38;5;129;01min\u001B[39;00m ads]\n\u001B[32m     13\u001B[39m \u001B[38;5;28;01mfor\u001B[39;00m i \u001B[38;5;129;01min\u001B[39;00m \u001B[38;5;28mrange\u001B[39m(\u001B[38;5;28mlen\u001B[39m(classes)):\n\u001B[32m     14\u001B[39m     \u001B[38;5;28;01mif\u001B[39;00m i \u001B[38;5;129;01min\u001B[39;00m ads:\n",
      "\u001B[31mValueError\u001B[39m: invalid literal for int() with base 10: 'ad-div-2'"
     ]
    }
   ],
   "execution_count": 56
  },
  {
   "metadata": {
    "ExecuteTime": {
     "end_time": "2025-04-29T02:39:12.654900Z",
     "start_time": "2025-04-29T02:39:12.646595Z"
    }
   },
   "cell_type": "code",
   "source": [
    "with open(\"dataset/is_ad_combines.txt\", \"r\") as f:\n",
    "    non_ads = f.readlines()\n",
    "    with open(\"dataset/is_ad_combines_final.txt\", \"w\") as g:\n",
    "        for line in non_ads:\n",
    "            if \"ad\" in line.lower():\n",
    "                g.write(line.strip() + \"\\n\")"
   ],
   "id": "ec770a7a55a2a119",
   "outputs": [],
   "execution_count": 59
  }
 ],
 "metadata": {
  "kernelspec": {
   "display_name": "Python 3",
   "language": "python",
   "name": "python3"
  },
  "language_info": {
   "codemirror_mode": {
    "name": "ipython",
    "version": 2
   },
   "file_extension": ".py",
   "mimetype": "text/x-python",
   "name": "python",
   "nbconvert_exporter": "python",
   "pygments_lexer": "ipython2",
   "version": "2.7.6"
  }
 },
 "nbformat": 4,
 "nbformat_minor": 5
}
